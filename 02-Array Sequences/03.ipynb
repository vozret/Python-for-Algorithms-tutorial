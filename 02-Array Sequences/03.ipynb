{
 "cells": [
  {
   "cell_type": "markdown",
   "metadata": {},
   "source": [
    "## DYNAMIC ARRAYS"
   ]
  },
  {
   "cell_type": "code",
   "execution_count": 2,
   "metadata": {},
   "outputs": [
    {
     "name": "stdout",
     "output_type": "stream",
     "text": [
      "Length:   0; Size in bytes:   56\n",
      "Length:   1; Size in bytes:   88\n",
      "Length:   2; Size in bytes:   88\n",
      "Length:   3; Size in bytes:   88\n",
      "Length:   4; Size in bytes:   88\n",
      "Length:   5; Size in bytes:  120\n",
      "Length:   6; Size in bytes:  120\n",
      "Length:   7; Size in bytes:  120\n",
      "Length:   8; Size in bytes:  120\n",
      "Length:   9; Size in bytes:  184\n",
      "Length:  10; Size in bytes:  184\n",
      "Length:  11; Size in bytes:  184\n",
      "Length:  12; Size in bytes:  184\n",
      "Length:  13; Size in bytes:  184\n",
      "Length:  14; Size in bytes:  184\n",
      "Length:  15; Size in bytes:  184\n",
      "Length:  16; Size in bytes:  184\n",
      "Length:  17; Size in bytes:  248\n",
      "Length:  18; Size in bytes:  248\n",
      "Length:  19; Size in bytes:  248\n",
      "Length:  20; Size in bytes:  248\n",
      "Length:  21; Size in bytes:  248\n",
      "Length:  22; Size in bytes:  248\n",
      "Length:  23; Size in bytes:  248\n",
      "Length:  24; Size in bytes:  248\n",
      "Length:  25; Size in bytes:  312\n",
      "Length:  26; Size in bytes:  312\n",
      "Length:  27; Size in bytes:  312\n",
      "Length:  28; Size in bytes:  312\n",
      "Length:  29; Size in bytes:  312\n",
      "Length:  30; Size in bytes:  312\n",
      "Length:  31; Size in bytes:  312\n",
      "Length:  32; Size in bytes:  312\n",
      "Length:  33; Size in bytes:  376\n",
      "Length:  34; Size in bytes:  376\n",
      "Length:  35; Size in bytes:  376\n",
      "Length:  36; Size in bytes:  376\n",
      "Length:  37; Size in bytes:  376\n",
      "Length:  38; Size in bytes:  376\n",
      "Length:  39; Size in bytes:  376\n",
      "Length:  40; Size in bytes:  376\n",
      "Length:  41; Size in bytes:  472\n",
      "Length:  42; Size in bytes:  472\n",
      "Length:  43; Size in bytes:  472\n",
      "Length:  44; Size in bytes:  472\n",
      "Length:  45; Size in bytes:  472\n",
      "Length:  46; Size in bytes:  472\n",
      "Length:  47; Size in bytes:  472\n",
      "Length:  48; Size in bytes:  472\n",
      "Length:  49; Size in bytes:  472\n"
     ]
    }
   ],
   "source": [
    "import sys\n",
    "\n",
    "# Set n\n",
    "n = 50\n",
    "data = []\n",
    "\n",
    "for i in range(n):\n",
    "    # Number of elements\n",
    "    a = len(data)\n",
    "\n",
    "    # Actual size in bytes\n",
    "    b = sys.getsizeof(data)\n",
    "\n",
    "    print(\"Length: {0:3d}; Size in bytes: {1:4d}\".format(a, b))\n",
    "\n",
    "    # Increase length by one\n",
    "    data.append(n)"
   ]
  },
  {
   "cell_type": "markdown",
   "metadata": {},
   "source": [
    "- Python has dynamic arrays\n",
    "- Increase of array size (memory allocation) happens in chunks"
   ]
  },
  {
   "cell_type": "code",
   "execution_count": null,
   "metadata": {},
   "outputs": [],
   "source": []
  }
 ],
 "metadata": {
  "interpreter": {
   "hash": "7591ea46d86d09dcf21cd67c6e50f8615b5c01cb2d9d7c67f33cd85658f6e099"
  },
  "kernelspec": {
   "display_name": "Python 3.10.3 64-bit",
   "language": "python",
   "name": "python3"
  },
  "language_info": {
   "codemirror_mode": {
    "name": "ipython",
    "version": 3
   },
   "file_extension": ".py",
   "mimetype": "text/x-python",
   "name": "python",
   "nbconvert_exporter": "python",
   "pygments_lexer": "ipython3",
   "version": "3.10.3"
  },
  "orig_nbformat": 4
 },
 "nbformat": 4,
 "nbformat_minor": 2
}
