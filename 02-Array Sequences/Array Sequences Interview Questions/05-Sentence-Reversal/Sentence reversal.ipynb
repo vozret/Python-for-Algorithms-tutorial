{
 "cells": [
  {
   "cell_type": "code",
   "execution_count": 3,
   "metadata": {},
   "outputs": [],
   "source": [
    "def rev_word(string_s):\n",
    "    words = []\n",
    "    length = len(string_s)\n",
    "    space = [\" \"]\n",
    "\n",
    "    i = 0\n",
    "\n",
    "    while i < length:\n",
    "\n",
    "        if string_s[i] not in space:\n",
    "\n",
    "            word_start = i\n",
    "\n",
    "            while i < length and string_s[i] not in space:\n",
    "\n",
    "                i+=1\n",
    "\n",
    "            words.append(string_s[word_start:i])\n",
    "        \n",
    "        i += 1\n",
    "\n",
    "    return \" \".join(reversed(words))"
   ]
  },
  {
   "cell_type": "code",
   "execution_count": 4,
   "metadata": {},
   "outputs": [
    {
     "data": {
      "text/plain": [
       "'go? to ready you are John, Hi'"
      ]
     },
     "execution_count": 4,
     "metadata": {},
     "output_type": "execute_result"
    }
   ],
   "source": [
    "rev_word('Hi John,   are you ready to go?')"
   ]
  },
  {
   "cell_type": "code",
   "execution_count": null,
   "metadata": {},
   "outputs": [],
   "source": []
  }
 ],
 "metadata": {
  "interpreter": {
   "hash": "7591ea46d86d09dcf21cd67c6e50f8615b5c01cb2d9d7c67f33cd85658f6e099"
  },
  "kernelspec": {
   "display_name": "Python 3.10.3 64-bit",
   "language": "python",
   "name": "python3"
  },
  "language_info": {
   "codemirror_mode": {
    "name": "ipython",
    "version": 3
   },
   "file_extension": ".py",
   "mimetype": "text/x-python",
   "name": "python",
   "nbconvert_exporter": "python",
   "pygments_lexer": "ipython3",
   "version": "3.10.3"
  },
  "orig_nbformat": 4
 },
 "nbformat": 4,
 "nbformat_minor": 2
}
