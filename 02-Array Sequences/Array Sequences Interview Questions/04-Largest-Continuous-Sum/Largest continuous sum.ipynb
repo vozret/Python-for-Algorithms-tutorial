{
 "cells": [
  {
   "cell_type": "code",
   "execution_count": 5,
   "metadata": {},
   "outputs": [],
   "source": [
    "def largest_continuous_sum(arr):\n",
    "    if len(arr) == 0:\n",
    "        return 0\n",
    "    \n",
    "    max_sum = current_sum = arr[0]\n",
    "\n",
    "    for num in arr[1:]:\n",
    "        current_sum = max(current_sum + num, num)\n",
    "\n",
    "        print(current_sum)\n",
    "\n",
    "        max_sum = max(current_sum, max_sum)\n",
    "    \n",
    "    return max_sum"
   ]
  },
  {
   "cell_type": "code",
   "execution_count": 6,
   "metadata": {},
   "outputs": [
    {
     "name": "stdout",
     "output_type": "stream",
     "text": [
      "3\n",
      "2\n",
      "5\n",
      "9\n",
      "19\n",
      "29\n",
      "19\n",
      "18\n"
     ]
    },
    {
     "data": {
      "text/plain": [
       "29"
      ]
     },
     "execution_count": 6,
     "metadata": {},
     "output_type": "execute_result"
    }
   ],
   "source": [
    "largest_continuous_sum([1,2,-1,3,4,10,10,-10,-1])"
   ]
  },
  {
   "cell_type": "code",
   "execution_count": 7,
   "metadata": {},
   "outputs": [
    {
     "name": "stdout",
     "output_type": "stream",
     "text": [
      "-19\n",
      "-1\n",
      "3\n",
      "7\n",
      "17\n",
      "27\n",
      "17\n",
      "16\n"
     ]
    },
    {
     "data": {
      "text/plain": [
       "27"
      ]
     },
     "execution_count": 7,
     "metadata": {},
     "output_type": "execute_result"
    }
   ],
   "source": [
    "largest_continuous_sum([1,-20,-1,3,4,10,10,-10,-1])"
   ]
  }
 ],
 "metadata": {
  "interpreter": {
   "hash": "7591ea46d86d09dcf21cd67c6e50f8615b5c01cb2d9d7c67f33cd85658f6e099"
  },
  "kernelspec": {
   "display_name": "Python 3.10.3 64-bit",
   "language": "python",
   "name": "python3"
  },
  "language_info": {
   "codemirror_mode": {
    "name": "ipython",
    "version": 3
   },
   "file_extension": ".py",
   "mimetype": "text/x-python",
   "name": "python",
   "nbconvert_exporter": "python",
   "pygments_lexer": "ipython3",
   "version": "3.10.3"
  },
  "orig_nbformat": 4
 },
 "nbformat": 4,
 "nbformat_minor": 2
}
